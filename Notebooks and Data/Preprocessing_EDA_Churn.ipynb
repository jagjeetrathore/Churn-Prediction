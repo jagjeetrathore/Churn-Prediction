{
  "nbformat": 4,
  "nbformat_minor": 0,
  "metadata": {
    "colab": {
      "name": "Preprocessing_EDA_Churn",
      "provenance": [],
      "collapsed_sections": []
    },
    "kernelspec": {
      "name": "python3",
      "display_name": "Python 3"
    },
    "language_info": {
      "name": "python"
    }
  },
  "cells": [
    {
      "cell_type": "code",
      "metadata": {
        "id": "Pf7Ye3fYPU2R"
      },
      "source": [
        "import numpy as np\n",
        "import pandas as pd\n",
        "import matplotlib.pyplot as plt\n",
        "%matplotlib inline\n",
        "import matplotlib.ticker as mtick\n",
        "import seaborn as sns\n",
        "random_state = 42\n",
        "\n",
        "from sklearn.preprocessing import LabelEncoder\n",
        "from sklearn.cluster import KMeans\n",
        "\n",
        "import warnings\n",
        "warnings.filterwarnings(action='ignore')"
      ],
      "execution_count": null,
      "outputs": []
    },
    {
      "cell_type": "code",
      "metadata": {
        "colab": {
          "base_uri": "https://localhost:8080/",
          "height": 309
        },
        "id": "-nH321MTQpmV",
        "outputId": "0442a5cd-df30-4552-f8da-5c3765a07f43"
      },
      "source": [
        "df = pd.read_csv(\"/content/drive/MyDrive/project/Project_ChurnPrediction/Notebooks and Data/Data/Telco-Churn.csv\")\n",
        "df.sample(5)"
      ],
      "execution_count": null,
      "outputs": [
        {
          "output_type": "execute_result",
          "data": {
            "text/html": [
              "<div>\n",
              "<style scoped>\n",
              "    .dataframe tbody tr th:only-of-type {\n",
              "        vertical-align: middle;\n",
              "    }\n",
              "\n",
              "    .dataframe tbody tr th {\n",
              "        vertical-align: top;\n",
              "    }\n",
              "\n",
              "    .dataframe thead th {\n",
              "        text-align: right;\n",
              "    }\n",
              "</style>\n",
              "<table border=\"1\" class=\"dataframe\">\n",
              "  <thead>\n",
              "    <tr style=\"text-align: right;\">\n",
              "      <th></th>\n",
              "      <th>customerID</th>\n",
              "      <th>gender</th>\n",
              "      <th>SeniorCitizen</th>\n",
              "      <th>Partner</th>\n",
              "      <th>Dependents</th>\n",
              "      <th>tenure</th>\n",
              "      <th>PhoneService</th>\n",
              "      <th>MultipleLines</th>\n",
              "      <th>InternetService</th>\n",
              "      <th>OnlineSecurity</th>\n",
              "      <th>OnlineBackup</th>\n",
              "      <th>DeviceProtection</th>\n",
              "      <th>TechSupport</th>\n",
              "      <th>StreamingTV</th>\n",
              "      <th>StreamingMovies</th>\n",
              "      <th>Contract</th>\n",
              "      <th>PaperlessBilling</th>\n",
              "      <th>PaymentMethod</th>\n",
              "      <th>MonthlyCharges</th>\n",
              "      <th>TotalCharges</th>\n",
              "      <th>Churn</th>\n",
              "    </tr>\n",
              "  </thead>\n",
              "  <tbody>\n",
              "    <tr>\n",
              "      <th>6317</th>\n",
              "      <td>7493-TPUWZ</td>\n",
              "      <td>Male</td>\n",
              "      <td>0</td>\n",
              "      <td>No</td>\n",
              "      <td>No</td>\n",
              "      <td>1</td>\n",
              "      <td>Yes</td>\n",
              "      <td>Yes</td>\n",
              "      <td>Fiber optic</td>\n",
              "      <td>No</td>\n",
              "      <td>Yes</td>\n",
              "      <td>No</td>\n",
              "      <td>No</td>\n",
              "      <td>No</td>\n",
              "      <td>No</td>\n",
              "      <td>Month-to-month</td>\n",
              "      <td>Yes</td>\n",
              "      <td>Electronic check</td>\n",
              "      <td>79.15</td>\n",
              "      <td>79.15</td>\n",
              "      <td>Yes</td>\n",
              "    </tr>\n",
              "    <tr>\n",
              "      <th>1650</th>\n",
              "      <td>3049-NDXFL</td>\n",
              "      <td>Female</td>\n",
              "      <td>0</td>\n",
              "      <td>No</td>\n",
              "      <td>No</td>\n",
              "      <td>1</td>\n",
              "      <td>Yes</td>\n",
              "      <td>Yes</td>\n",
              "      <td>Fiber optic</td>\n",
              "      <td>No</td>\n",
              "      <td>No</td>\n",
              "      <td>No</td>\n",
              "      <td>No</td>\n",
              "      <td>No</td>\n",
              "      <td>Yes</td>\n",
              "      <td>Month-to-month</td>\n",
              "      <td>No</td>\n",
              "      <td>Mailed check</td>\n",
              "      <td>85.80</td>\n",
              "      <td>85.8</td>\n",
              "      <td>Yes</td>\n",
              "    </tr>\n",
              "    <tr>\n",
              "      <th>3508</th>\n",
              "      <td>2368-GAKKQ</td>\n",
              "      <td>Female</td>\n",
              "      <td>0</td>\n",
              "      <td>No</td>\n",
              "      <td>No</td>\n",
              "      <td>70</td>\n",
              "      <td>Yes</td>\n",
              "      <td>Yes</td>\n",
              "      <td>Fiber optic</td>\n",
              "      <td>Yes</td>\n",
              "      <td>Yes</td>\n",
              "      <td>Yes</td>\n",
              "      <td>Yes</td>\n",
              "      <td>Yes</td>\n",
              "      <td>Yes</td>\n",
              "      <td>Two year</td>\n",
              "      <td>Yes</td>\n",
              "      <td>Bank transfer (automatic)</td>\n",
              "      <td>113.65</td>\n",
              "      <td>7939.25</td>\n",
              "      <td>No</td>\n",
              "    </tr>\n",
              "    <tr>\n",
              "      <th>383</th>\n",
              "      <td>5167-ZFFMM</td>\n",
              "      <td>Male</td>\n",
              "      <td>0</td>\n",
              "      <td>No</td>\n",
              "      <td>No</td>\n",
              "      <td>1</td>\n",
              "      <td>Yes</td>\n",
              "      <td>Yes</td>\n",
              "      <td>Fiber optic</td>\n",
              "      <td>No</td>\n",
              "      <td>Yes</td>\n",
              "      <td>No</td>\n",
              "      <td>No</td>\n",
              "      <td>No</td>\n",
              "      <td>Yes</td>\n",
              "      <td>Month-to-month</td>\n",
              "      <td>Yes</td>\n",
              "      <td>Credit card (automatic)</td>\n",
              "      <td>90.85</td>\n",
              "      <td>90.85</td>\n",
              "      <td>Yes</td>\n",
              "    </tr>\n",
              "    <tr>\n",
              "      <th>1397</th>\n",
              "      <td>8714-CTZJW</td>\n",
              "      <td>Female</td>\n",
              "      <td>0</td>\n",
              "      <td>No</td>\n",
              "      <td>No</td>\n",
              "      <td>4</td>\n",
              "      <td>Yes</td>\n",
              "      <td>No</td>\n",
              "      <td>Fiber optic</td>\n",
              "      <td>No</td>\n",
              "      <td>No</td>\n",
              "      <td>Yes</td>\n",
              "      <td>No</td>\n",
              "      <td>No</td>\n",
              "      <td>Yes</td>\n",
              "      <td>Month-to-month</td>\n",
              "      <td>Yes</td>\n",
              "      <td>Credit card (automatic)</td>\n",
              "      <td>82.85</td>\n",
              "      <td>319.6</td>\n",
              "      <td>No</td>\n",
              "    </tr>\n",
              "  </tbody>\n",
              "</table>\n",
              "</div>"
            ],
            "text/plain": [
              "      customerID  gender  SeniorCitizen  ... MonthlyCharges TotalCharges  Churn\n",
              "6317  7493-TPUWZ    Male              0  ...          79.15        79.15    Yes\n",
              "1650  3049-NDXFL  Female              0  ...          85.80         85.8    Yes\n",
              "3508  2368-GAKKQ  Female              0  ...         113.65      7939.25     No\n",
              "383   5167-ZFFMM    Male              0  ...          90.85        90.85    Yes\n",
              "1397  8714-CTZJW  Female              0  ...          82.85        319.6     No\n",
              "\n",
              "[5 rows x 21 columns]"
            ]
          },
          "metadata": {
            "tags": []
          },
          "execution_count": 2
        }
      ]
    },
    {
      "cell_type": "code",
      "metadata": {
        "colab": {
          "base_uri": "https://localhost:8080/"
        },
        "id": "GWpKXql7RBhl",
        "outputId": "bc8bfce1-1917-495b-efe7-3d4e88af85e6"
      },
      "source": [
        "df.info()"
      ],
      "execution_count": null,
      "outputs": [
        {
          "output_type": "stream",
          "text": [
            "<class 'pandas.core.frame.DataFrame'>\n",
            "RangeIndex: 7043 entries, 0 to 7042\n",
            "Data columns (total 21 columns):\n",
            " #   Column            Non-Null Count  Dtype  \n",
            "---  ------            --------------  -----  \n",
            " 0   customerID        7043 non-null   object \n",
            " 1   gender            7043 non-null   object \n",
            " 2   SeniorCitizen     7043 non-null   int64  \n",
            " 3   Partner           7043 non-null   object \n",
            " 4   Dependents        7043 non-null   object \n",
            " 5   tenure            7043 non-null   int64  \n",
            " 6   PhoneService      7043 non-null   object \n",
            " 7   MultipleLines     7043 non-null   object \n",
            " 8   InternetService   7043 non-null   object \n",
            " 9   OnlineSecurity    7043 non-null   object \n",
            " 10  OnlineBackup      7043 non-null   object \n",
            " 11  DeviceProtection  7043 non-null   object \n",
            " 12  TechSupport       7043 non-null   object \n",
            " 13  StreamingTV       7043 non-null   object \n",
            " 14  StreamingMovies   7043 non-null   object \n",
            " 15  Contract          7043 non-null   object \n",
            " 16  PaperlessBilling  7043 non-null   object \n",
            " 17  PaymentMethod     7043 non-null   object \n",
            " 18  MonthlyCharges    7043 non-null   float64\n",
            " 19  TotalCharges      7043 non-null   object \n",
            " 20  Churn             7043 non-null   object \n",
            "dtypes: float64(1), int64(2), object(18)\n",
            "memory usage: 1.1+ MB\n"
          ],
          "name": "stdout"
        }
      ]
    },
    {
      "cell_type": "code",
      "metadata": {
        "colab": {
          "base_uri": "https://localhost:8080/"
        },
        "id": "3WlW2ZnHGRd1",
        "outputId": "37f82e39-4f03-48dc-941c-e03fcae02675"
      },
      "source": [
        "df.isnull().sum() # dataset has no null values"
      ],
      "execution_count": null,
      "outputs": [
        {
          "output_type": "execute_result",
          "data": {
            "text/plain": [
              "customerID          0\n",
              "gender              0\n",
              "SeniorCitizen       0\n",
              "Partner             0\n",
              "Dependents          0\n",
              "tenure              0\n",
              "PhoneService        0\n",
              "MultipleLines       0\n",
              "InternetService     0\n",
              "OnlineSecurity      0\n",
              "OnlineBackup        0\n",
              "DeviceProtection    0\n",
              "TechSupport         0\n",
              "StreamingTV         0\n",
              "StreamingMovies     0\n",
              "Contract            0\n",
              "PaperlessBilling    0\n",
              "PaymentMethod       0\n",
              "MonthlyCharges      0\n",
              "TotalCharges        0\n",
              "Churn               0\n",
              "dtype: int64"
            ]
          },
          "metadata": {
            "tags": []
          },
          "execution_count": 58
        }
      ]
    },
    {
      "cell_type": "code",
      "metadata": {
        "colab": {
          "base_uri": "https://localhost:8080/",
          "height": 294
        },
        "id": "B4CumNqxRGbE",
        "outputId": "6186cf4b-4366-4dbc-e121-cd0b949e7921"
      },
      "source": [
        "df.describe()"
      ],
      "execution_count": null,
      "outputs": [
        {
          "output_type": "execute_result",
          "data": {
            "text/html": [
              "<div>\n",
              "<style scoped>\n",
              "    .dataframe tbody tr th:only-of-type {\n",
              "        vertical-align: middle;\n",
              "    }\n",
              "\n",
              "    .dataframe tbody tr th {\n",
              "        vertical-align: top;\n",
              "    }\n",
              "\n",
              "    .dataframe thead th {\n",
              "        text-align: right;\n",
              "    }\n",
              "</style>\n",
              "<table border=\"1\" class=\"dataframe\">\n",
              "  <thead>\n",
              "    <tr style=\"text-align: right;\">\n",
              "      <th></th>\n",
              "      <th>SeniorCitizen</th>\n",
              "      <th>tenure</th>\n",
              "      <th>MonthlyCharges</th>\n",
              "    </tr>\n",
              "  </thead>\n",
              "  <tbody>\n",
              "    <tr>\n",
              "      <th>count</th>\n",
              "      <td>7043.000000</td>\n",
              "      <td>7043.000000</td>\n",
              "      <td>7043.000000</td>\n",
              "    </tr>\n",
              "    <tr>\n",
              "      <th>mean</th>\n",
              "      <td>0.162147</td>\n",
              "      <td>32.371149</td>\n",
              "      <td>64.761692</td>\n",
              "    </tr>\n",
              "    <tr>\n",
              "      <th>std</th>\n",
              "      <td>0.368612</td>\n",
              "      <td>24.559481</td>\n",
              "      <td>30.090047</td>\n",
              "    </tr>\n",
              "    <tr>\n",
              "      <th>min</th>\n",
              "      <td>0.000000</td>\n",
              "      <td>0.000000</td>\n",
              "      <td>18.250000</td>\n",
              "    </tr>\n",
              "    <tr>\n",
              "      <th>25%</th>\n",
              "      <td>0.000000</td>\n",
              "      <td>9.000000</td>\n",
              "      <td>35.500000</td>\n",
              "    </tr>\n",
              "    <tr>\n",
              "      <th>50%</th>\n",
              "      <td>0.000000</td>\n",
              "      <td>29.000000</td>\n",
              "      <td>70.350000</td>\n",
              "    </tr>\n",
              "    <tr>\n",
              "      <th>75%</th>\n",
              "      <td>0.000000</td>\n",
              "      <td>55.000000</td>\n",
              "      <td>89.850000</td>\n",
              "    </tr>\n",
              "    <tr>\n",
              "      <th>max</th>\n",
              "      <td>1.000000</td>\n",
              "      <td>72.000000</td>\n",
              "      <td>118.750000</td>\n",
              "    </tr>\n",
              "  </tbody>\n",
              "</table>\n",
              "</div>"
            ],
            "text/plain": [
              "       SeniorCitizen       tenure  MonthlyCharges\n",
              "count    7043.000000  7043.000000     7043.000000\n",
              "mean        0.162147    32.371149       64.761692\n",
              "std         0.368612    24.559481       30.090047\n",
              "min         0.000000     0.000000       18.250000\n",
              "25%         0.000000     9.000000       35.500000\n",
              "50%         0.000000    29.000000       70.350000\n",
              "75%         0.000000    55.000000       89.850000\n",
              "max         1.000000    72.000000      118.750000"
            ]
          },
          "metadata": {
            "tags": []
          },
          "execution_count": 59
        }
      ]
    },
    {
      "cell_type": "markdown",
      "metadata": {
        "id": "mCB3KQCNZmUT"
      },
      "source": [
        "* 75% of customers have tenure less than 55 months\n",
        "* 25% of customer have tenure less than 9 months\n",
        "* Max tenure for customer is 72 months, means the maximum number of months the customer stay with company accor to  given dataset is 72 months."
      ]
    },
    {
      "cell_type": "code",
      "metadata": {
        "colab": {
          "base_uri": "https://localhost:8080/",
          "height": 209
        },
        "id": "q-xA3eIdRY6y",
        "outputId": "f4736010-aeaf-4732-e691-3eaf6d52c12e"
      },
      "source": [
        "df.describe(include='object')              "
      ],
      "execution_count": null,
      "outputs": [
        {
          "output_type": "execute_result",
          "data": {
            "text/html": [
              "<div>\n",
              "<style scoped>\n",
              "    .dataframe tbody tr th:only-of-type {\n",
              "        vertical-align: middle;\n",
              "    }\n",
              "\n",
              "    .dataframe tbody tr th {\n",
              "        vertical-align: top;\n",
              "    }\n",
              "\n",
              "    .dataframe thead th {\n",
              "        text-align: right;\n",
              "    }\n",
              "</style>\n",
              "<table border=\"1\" class=\"dataframe\">\n",
              "  <thead>\n",
              "    <tr style=\"text-align: right;\">\n",
              "      <th></th>\n",
              "      <th>customerID</th>\n",
              "      <th>gender</th>\n",
              "      <th>Partner</th>\n",
              "      <th>Dependents</th>\n",
              "      <th>PhoneService</th>\n",
              "      <th>MultipleLines</th>\n",
              "      <th>InternetService</th>\n",
              "      <th>OnlineSecurity</th>\n",
              "      <th>OnlineBackup</th>\n",
              "      <th>DeviceProtection</th>\n",
              "      <th>TechSupport</th>\n",
              "      <th>StreamingTV</th>\n",
              "      <th>StreamingMovies</th>\n",
              "      <th>Contract</th>\n",
              "      <th>PaperlessBilling</th>\n",
              "      <th>PaymentMethod</th>\n",
              "      <th>TotalCharges</th>\n",
              "      <th>Churn</th>\n",
              "    </tr>\n",
              "  </thead>\n",
              "  <tbody>\n",
              "    <tr>\n",
              "      <th>count</th>\n",
              "      <td>7043</td>\n",
              "      <td>7043</td>\n",
              "      <td>7043</td>\n",
              "      <td>7043</td>\n",
              "      <td>7043</td>\n",
              "      <td>7043</td>\n",
              "      <td>7043</td>\n",
              "      <td>7043</td>\n",
              "      <td>7043</td>\n",
              "      <td>7043</td>\n",
              "      <td>7043</td>\n",
              "      <td>7043</td>\n",
              "      <td>7043</td>\n",
              "      <td>7043</td>\n",
              "      <td>7043</td>\n",
              "      <td>7043</td>\n",
              "      <td>7043</td>\n",
              "      <td>7043</td>\n",
              "    </tr>\n",
              "    <tr>\n",
              "      <th>unique</th>\n",
              "      <td>7043</td>\n",
              "      <td>2</td>\n",
              "      <td>2</td>\n",
              "      <td>2</td>\n",
              "      <td>2</td>\n",
              "      <td>3</td>\n",
              "      <td>3</td>\n",
              "      <td>3</td>\n",
              "      <td>3</td>\n",
              "      <td>3</td>\n",
              "      <td>3</td>\n",
              "      <td>3</td>\n",
              "      <td>3</td>\n",
              "      <td>3</td>\n",
              "      <td>2</td>\n",
              "      <td>4</td>\n",
              "      <td>6531</td>\n",
              "      <td>2</td>\n",
              "    </tr>\n",
              "    <tr>\n",
              "      <th>top</th>\n",
              "      <td>2509-TFPJU</td>\n",
              "      <td>Male</td>\n",
              "      <td>No</td>\n",
              "      <td>No</td>\n",
              "      <td>Yes</td>\n",
              "      <td>No</td>\n",
              "      <td>Fiber optic</td>\n",
              "      <td>No</td>\n",
              "      <td>No</td>\n",
              "      <td>No</td>\n",
              "      <td>No</td>\n",
              "      <td>No</td>\n",
              "      <td>No</td>\n",
              "      <td>Month-to-month</td>\n",
              "      <td>Yes</td>\n",
              "      <td>Electronic check</td>\n",
              "      <td></td>\n",
              "      <td>No</td>\n",
              "    </tr>\n",
              "    <tr>\n",
              "      <th>freq</th>\n",
              "      <td>1</td>\n",
              "      <td>3555</td>\n",
              "      <td>3641</td>\n",
              "      <td>4933</td>\n",
              "      <td>6361</td>\n",
              "      <td>3390</td>\n",
              "      <td>3096</td>\n",
              "      <td>3498</td>\n",
              "      <td>3088</td>\n",
              "      <td>3095</td>\n",
              "      <td>3473</td>\n",
              "      <td>2810</td>\n",
              "      <td>2785</td>\n",
              "      <td>3875</td>\n",
              "      <td>4171</td>\n",
              "      <td>2365</td>\n",
              "      <td>11</td>\n",
              "      <td>5174</td>\n",
              "    </tr>\n",
              "  </tbody>\n",
              "</table>\n",
              "</div>"
            ],
            "text/plain": [
              "        customerID gender Partner  ...     PaymentMethod TotalCharges Churn\n",
              "count         7043   7043    7043  ...              7043         7043  7043\n",
              "unique        7043      2       2  ...                 4         6531     2\n",
              "top     2509-TFPJU   Male      No  ...  Electronic check                 No\n",
              "freq             1   3555    3641  ...              2365           11  5174\n",
              "\n",
              "[4 rows x 18 columns]"
            ]
          },
          "metadata": {
            "tags": []
          },
          "execution_count": 60
        }
      ]
    },
    {
      "cell_type": "markdown",
      "metadata": {
        "id": "rBOMAPvZSxlV"
      },
      "source": [
        "**Exploratory Analysis of Columns of object data type**"
      ]
    },
    {
      "cell_type": "code",
      "metadata": {
        "colab": {
          "base_uri": "https://localhost:8080/",
          "height": 693
        },
        "id": "856Pyjw0RfEO",
        "outputId": "47f683f2-b74a-4aac-c0e8-4e95821f4aeb"
      },
      "source": [
        "data = [[df[c].unique(), len(df[c].unique())] for c in df.columns]  \n",
        "df_temp = pd.DataFrame(data, index=df.columns,columns=['Levels', 'No. of Levels'])\n",
        "df_temp "
      ],
      "execution_count": null,
      "outputs": [
        {
          "output_type": "execute_result",
          "data": {
            "text/html": [
              "<div>\n",
              "<style scoped>\n",
              "    .dataframe tbody tr th:only-of-type {\n",
              "        vertical-align: middle;\n",
              "    }\n",
              "\n",
              "    .dataframe tbody tr th {\n",
              "        vertical-align: top;\n",
              "    }\n",
              "\n",
              "    .dataframe thead th {\n",
              "        text-align: right;\n",
              "    }\n",
              "</style>\n",
              "<table border=\"1\" class=\"dataframe\">\n",
              "  <thead>\n",
              "    <tr style=\"text-align: right;\">\n",
              "      <th></th>\n",
              "      <th>Levels</th>\n",
              "      <th>No. of Levels</th>\n",
              "    </tr>\n",
              "  </thead>\n",
              "  <tbody>\n",
              "    <tr>\n",
              "      <th>customerID</th>\n",
              "      <td>[7590-VHVEG, 5575-GNVDE, 3668-QPYBK, 7795-CFOC...</td>\n",
              "      <td>7043</td>\n",
              "    </tr>\n",
              "    <tr>\n",
              "      <th>gender</th>\n",
              "      <td>[Female, Male]</td>\n",
              "      <td>2</td>\n",
              "    </tr>\n",
              "    <tr>\n",
              "      <th>SeniorCitizen</th>\n",
              "      <td>[0, 1]</td>\n",
              "      <td>2</td>\n",
              "    </tr>\n",
              "    <tr>\n",
              "      <th>Partner</th>\n",
              "      <td>[Yes, No]</td>\n",
              "      <td>2</td>\n",
              "    </tr>\n",
              "    <tr>\n",
              "      <th>Dependents</th>\n",
              "      <td>[No, Yes]</td>\n",
              "      <td>2</td>\n",
              "    </tr>\n",
              "    <tr>\n",
              "      <th>tenure</th>\n",
              "      <td>[1, 34, 2, 45, 8, 22, 10, 28, 62, 13, 16, 58, ...</td>\n",
              "      <td>73</td>\n",
              "    </tr>\n",
              "    <tr>\n",
              "      <th>PhoneService</th>\n",
              "      <td>[No, Yes]</td>\n",
              "      <td>2</td>\n",
              "    </tr>\n",
              "    <tr>\n",
              "      <th>MultipleLines</th>\n",
              "      <td>[No phone service, No, Yes]</td>\n",
              "      <td>3</td>\n",
              "    </tr>\n",
              "    <tr>\n",
              "      <th>InternetService</th>\n",
              "      <td>[DSL, Fiber optic, No]</td>\n",
              "      <td>3</td>\n",
              "    </tr>\n",
              "    <tr>\n",
              "      <th>OnlineSecurity</th>\n",
              "      <td>[No, Yes, No internet service]</td>\n",
              "      <td>3</td>\n",
              "    </tr>\n",
              "    <tr>\n",
              "      <th>OnlineBackup</th>\n",
              "      <td>[Yes, No, No internet service]</td>\n",
              "      <td>3</td>\n",
              "    </tr>\n",
              "    <tr>\n",
              "      <th>DeviceProtection</th>\n",
              "      <td>[No, Yes, No internet service]</td>\n",
              "      <td>3</td>\n",
              "    </tr>\n",
              "    <tr>\n",
              "      <th>TechSupport</th>\n",
              "      <td>[No, Yes, No internet service]</td>\n",
              "      <td>3</td>\n",
              "    </tr>\n",
              "    <tr>\n",
              "      <th>StreamingTV</th>\n",
              "      <td>[No, Yes, No internet service]</td>\n",
              "      <td>3</td>\n",
              "    </tr>\n",
              "    <tr>\n",
              "      <th>StreamingMovies</th>\n",
              "      <td>[No, Yes, No internet service]</td>\n",
              "      <td>3</td>\n",
              "    </tr>\n",
              "    <tr>\n",
              "      <th>Contract</th>\n",
              "      <td>[Month-to-month, One year, Two year]</td>\n",
              "      <td>3</td>\n",
              "    </tr>\n",
              "    <tr>\n",
              "      <th>PaperlessBilling</th>\n",
              "      <td>[Yes, No]</td>\n",
              "      <td>2</td>\n",
              "    </tr>\n",
              "    <tr>\n",
              "      <th>PaymentMethod</th>\n",
              "      <td>[Electronic check, Mailed check, Bank transfer...</td>\n",
              "      <td>4</td>\n",
              "    </tr>\n",
              "    <tr>\n",
              "      <th>MonthlyCharges</th>\n",
              "      <td>[29.85, 56.95, 53.85, 42.3, 70.7, 99.65, 89.1,...</td>\n",
              "      <td>1585</td>\n",
              "    </tr>\n",
              "    <tr>\n",
              "      <th>TotalCharges</th>\n",
              "      <td>[29.85, 1889.5, 108.15, 1840.75, 151.65, 820.5...</td>\n",
              "      <td>6531</td>\n",
              "    </tr>\n",
              "    <tr>\n",
              "      <th>Churn</th>\n",
              "      <td>[No, Yes]</td>\n",
              "      <td>2</td>\n",
              "    </tr>\n",
              "  </tbody>\n",
              "</table>\n",
              "</div>"
            ],
            "text/plain": [
              "                                                             Levels  No. of Levels\n",
              "customerID        [7590-VHVEG, 5575-GNVDE, 3668-QPYBK, 7795-CFOC...           7043\n",
              "gender                                               [Female, Male]              2\n",
              "SeniorCitizen                                                [0, 1]              2\n",
              "Partner                                                   [Yes, No]              2\n",
              "Dependents                                                [No, Yes]              2\n",
              "tenure            [1, 34, 2, 45, 8, 22, 10, 28, 62, 13, 16, 58, ...             73\n",
              "PhoneService                                              [No, Yes]              2\n",
              "MultipleLines                           [No phone service, No, Yes]              3\n",
              "InternetService                              [DSL, Fiber optic, No]              3\n",
              "OnlineSecurity                       [No, Yes, No internet service]              3\n",
              "OnlineBackup                         [Yes, No, No internet service]              3\n",
              "DeviceProtection                     [No, Yes, No internet service]              3\n",
              "TechSupport                          [No, Yes, No internet service]              3\n",
              "StreamingTV                          [No, Yes, No internet service]              3\n",
              "StreamingMovies                      [No, Yes, No internet service]              3\n",
              "Contract                       [Month-to-month, One year, Two year]              3\n",
              "PaperlessBilling                                          [Yes, No]              2\n",
              "PaymentMethod     [Electronic check, Mailed check, Bank transfer...              4\n",
              "MonthlyCharges    [29.85, 56.95, 53.85, 42.3, 70.7, 99.65, 89.1,...           1585\n",
              "TotalCharges      [29.85, 1889.5, 108.15, 1840.75, 151.65, 820.5...           6531\n",
              "Churn                                                     [No, Yes]              2"
            ]
          },
          "metadata": {
            "tags": []
          },
          "execution_count": 15
        }
      ]
    },
    {
      "cell_type": "markdown",
      "metadata": {
        "id": "G0ArABp7ekqW"
      },
      "source": [
        "# Data Preprocessing"
      ]
    },
    {
      "cell_type": "code",
      "metadata": {
        "colab": {
          "base_uri": "https://localhost:8080/"
        },
        "id": "pIUFBUwBenaD",
        "outputId": "8208a8b2-fc2b-47fd-f039-14f36677dac0"
      },
      "source": [
        "df = df.drop('customerID',axis = 1)\n",
        "# Changing the data type of column and finding null values\n",
        "df['TotalCharges'] = pd.to_numeric(df.TotalCharges, errors= 'coerce')\n",
        "df.isnull().sum()"
      ],
      "execution_count": null,
      "outputs": [
        {
          "output_type": "execute_result",
          "data": {
            "text/plain": [
              "gender               0\n",
              "SeniorCitizen        0\n",
              "Partner              0\n",
              "Dependents           0\n",
              "tenure               0\n",
              "PhoneService         0\n",
              "MultipleLines        0\n",
              "InternetService      0\n",
              "OnlineSecurity       0\n",
              "OnlineBackup         0\n",
              "DeviceProtection     0\n",
              "TechSupport          0\n",
              "StreamingTV          0\n",
              "StreamingMovies      0\n",
              "Contract             0\n",
              "PaperlessBilling     0\n",
              "PaymentMethod        0\n",
              "MonthlyCharges       0\n",
              "TotalCharges        11\n",
              "Churn                0\n",
              "dtype: int64"
            ]
          },
          "metadata": {
            "tags": []
          },
          "execution_count": 62
        }
      ]
    },
    {
      "cell_type": "markdown",
      "metadata": {
        "id": "H74MjRD1fWk2"
      },
      "source": [
        "**Total Charges columns have 11 null values, better to drop them ,such a small number will not effect the analysis**"
      ]
    },
    {
      "cell_type": "code",
      "metadata": {
        "colab": {
          "base_uri": "https://localhost:8080/",
          "height": 195
        },
        "id": "UThZHGezg5HW",
        "outputId": "8d13612a-2b5c-45f2-e5e3-1dec0be14a82"
      },
      "source": [
        "df.loc[df.TotalCharges.isnull()==True].head(3) # isnull function returns boolean values"
      ],
      "execution_count": null,
      "outputs": [
        {
          "output_type": "execute_result",
          "data": {
            "text/html": [
              "<div>\n",
              "<style scoped>\n",
              "    .dataframe tbody tr th:only-of-type {\n",
              "        vertical-align: middle;\n",
              "    }\n",
              "\n",
              "    .dataframe tbody tr th {\n",
              "        vertical-align: top;\n",
              "    }\n",
              "\n",
              "    .dataframe thead th {\n",
              "        text-align: right;\n",
              "    }\n",
              "</style>\n",
              "<table border=\"1\" class=\"dataframe\">\n",
              "  <thead>\n",
              "    <tr style=\"text-align: right;\">\n",
              "      <th></th>\n",
              "      <th>gender</th>\n",
              "      <th>SeniorCitizen</th>\n",
              "      <th>Partner</th>\n",
              "      <th>Dependents</th>\n",
              "      <th>tenure</th>\n",
              "      <th>PhoneService</th>\n",
              "      <th>MultipleLines</th>\n",
              "      <th>InternetService</th>\n",
              "      <th>OnlineSecurity</th>\n",
              "      <th>OnlineBackup</th>\n",
              "      <th>DeviceProtection</th>\n",
              "      <th>TechSupport</th>\n",
              "      <th>StreamingTV</th>\n",
              "      <th>StreamingMovies</th>\n",
              "      <th>Contract</th>\n",
              "      <th>PaperlessBilling</th>\n",
              "      <th>PaymentMethod</th>\n",
              "      <th>MonthlyCharges</th>\n",
              "      <th>TotalCharges</th>\n",
              "      <th>Churn</th>\n",
              "    </tr>\n",
              "  </thead>\n",
              "  <tbody>\n",
              "    <tr>\n",
              "      <th>488</th>\n",
              "      <td>Female</td>\n",
              "      <td>0</td>\n",
              "      <td>Yes</td>\n",
              "      <td>Yes</td>\n",
              "      <td>0</td>\n",
              "      <td>No</td>\n",
              "      <td>No phone service</td>\n",
              "      <td>DSL</td>\n",
              "      <td>Yes</td>\n",
              "      <td>No</td>\n",
              "      <td>Yes</td>\n",
              "      <td>Yes</td>\n",
              "      <td>Yes</td>\n",
              "      <td>No</td>\n",
              "      <td>Two year</td>\n",
              "      <td>Yes</td>\n",
              "      <td>Bank transfer (automatic)</td>\n",
              "      <td>52.55</td>\n",
              "      <td>NaN</td>\n",
              "      <td>No</td>\n",
              "    </tr>\n",
              "    <tr>\n",
              "      <th>753</th>\n",
              "      <td>Male</td>\n",
              "      <td>0</td>\n",
              "      <td>No</td>\n",
              "      <td>Yes</td>\n",
              "      <td>0</td>\n",
              "      <td>Yes</td>\n",
              "      <td>No</td>\n",
              "      <td>No</td>\n",
              "      <td>No internet service</td>\n",
              "      <td>No internet service</td>\n",
              "      <td>No internet service</td>\n",
              "      <td>No internet service</td>\n",
              "      <td>No internet service</td>\n",
              "      <td>No internet service</td>\n",
              "      <td>Two year</td>\n",
              "      <td>No</td>\n",
              "      <td>Mailed check</td>\n",
              "      <td>20.25</td>\n",
              "      <td>NaN</td>\n",
              "      <td>No</td>\n",
              "    </tr>\n",
              "    <tr>\n",
              "      <th>936</th>\n",
              "      <td>Female</td>\n",
              "      <td>0</td>\n",
              "      <td>Yes</td>\n",
              "      <td>Yes</td>\n",
              "      <td>0</td>\n",
              "      <td>Yes</td>\n",
              "      <td>No</td>\n",
              "      <td>DSL</td>\n",
              "      <td>Yes</td>\n",
              "      <td>Yes</td>\n",
              "      <td>Yes</td>\n",
              "      <td>No</td>\n",
              "      <td>Yes</td>\n",
              "      <td>Yes</td>\n",
              "      <td>Two year</td>\n",
              "      <td>No</td>\n",
              "      <td>Mailed check</td>\n",
              "      <td>80.85</td>\n",
              "      <td>NaN</td>\n",
              "      <td>No</td>\n",
              "    </tr>\n",
              "  </tbody>\n",
              "</table>\n",
              "</div>"
            ],
            "text/plain": [
              "     gender  SeniorCitizen Partner  ... MonthlyCharges  TotalCharges Churn\n",
              "488  Female              0     Yes  ...          52.55           NaN    No\n",
              "753    Male              0      No  ...          20.25           NaN    No\n",
              "936  Female              0     Yes  ...          80.85           NaN    No\n",
              "\n",
              "[3 rows x 20 columns]"
            ]
          },
          "metadata": {
            "tags": []
          },
          "execution_count": 63
        }
      ]
    },
    {
      "cell_type": "markdown",
      "metadata": {
        "id": "QwCb1D3Gn_z5"
      },
      "source": [
        "**dropping na values**"
      ]
    },
    {
      "cell_type": "code",
      "metadata": {
        "colab": {
          "base_uri": "https://localhost:8080/"
        },
        "id": "lI1KjrIulv88",
        "outputId": "b8565f8f-d6f2-4786-97d0-0a109d8e0bb6"
      },
      "source": [
        "df.dropna(how = 'any', inplace=True)\n",
        "df.isnull().any().values # dropping and checking na values"
      ],
      "execution_count": null,
      "outputs": [
        {
          "output_type": "execute_result",
          "data": {
            "text/plain": [
              "array([False, False, False, False, False, False, False, False, False,\n",
              "       False, False, False, False, False, False, False, False, False,\n",
              "       False, False])"
            ]
          },
          "metadata": {
            "tags": []
          },
          "execution_count": 64
        }
      ]
    },
    {
      "cell_type": "markdown",
      "metadata": {
        "id": "3Fqd2m2L1s6F"
      },
      "source": [
        "# Univariant Analysis"
      ]
    },
    {
      "cell_type": "code",
      "metadata": {
        "colab": {
          "base_uri": "https://localhost:8080/",
          "height": 286
        },
        "id": "oWYEgiXkYQZd",
        "outputId": "be93f1b0-1598-4223-f27f-0298a6298819"
      },
      "source": [
        "ax = sns.barplot(x = df['Churn'].value_counts().index.values, y = df['Churn'].value_counts()/len(df['Churn']), data = df,palette= 'cool')\n",
        "# Iterrating over the bars one-by-one\n",
        "ax.set_title(\"Churn Rate of Customers\", weight = 'bold',fontdict={'color': 'Darkblue', 'size':15})\n",
        "for bar in ax.patches:\n",
        "    ax.annotate(format(bar.get_height(), '.2f'), \n",
        "                   (bar.get_x() + bar.get_width() / 2, \n",
        "                    bar.get_height()), ha='center', # horizontally align label at center\n",
        "                va='center',  weight = 'bold',                      # Vertically align label at center\n",
        "                   size=10, xytext=(0, 9),\n",
        "                   textcoords='offset points')"
      ],
      "execution_count": null,
      "outputs": [
        {
          "output_type": "display_data",
          "data": {
            "image/png": "[encoded data removed]",
            "text/plain": [
              "<Figure size 432x288 with 1 Axes>"
            ]
          },
          "metadata": {
            "tags": [],
            "needs_background": "light"
          }
        }
      ]
    },
    {
      "cell_type": "code",
      "metadata": {
        "colab": {
          "base_uri": "https://localhost:8080/"
        },
        "id": "WBOWNk-tsOvt",
        "outputId": "4ce7afcd-5495-4bf4-e13d-cf8dd179f1d7"
      },
      "source": [
        "df[\"MonthlyCharges\"] = df.MonthlyCharges.astype(int)\n",
        "df['MonthlyCharges'].dtypes"
      ],
      "execution_count": null,
      "outputs": [
        {
          "output_type": "execute_result",
          "data": {
            "text/plain": [
              "dtype('int64')"
            ]
          },
          "metadata": {
            "tags": []
          },
          "execution_count": 66
        }
      ]
    },
    {
      "cell_type": "code",
      "metadata": {
        "colab": {
          "base_uri": "https://localhost:8080/",
          "height": 285
        },
        "id": "rIrRJTJTuq1R",
        "outputId": "55a9b86f-270d-41af-e965-7fb96d547aa1"
      },
      "source": [
        "\n",
        "sns.histplot(df['MonthlyCharges'], color = 'violet')\n",
        "plt.show()"
      ],
      "execution_count": null,
      "outputs": [
        {
          "output_type": "display_data",
          "data": {
            "image/png": "[encoded data removed]",
            "text/plain": [
              "<Figure size 432x288 with 1 Axes>"
            ]
          },
          "metadata": {
            "tags": [],
            "needs_background": "light"
          }
        }
      ]
    },
    {
      "cell_type": "code",
      "metadata": {
        "colab": {
          "base_uri": "https://localhost:8080/",
          "height": 285
        },
        "id": "M_oZpiO35Uto",
        "outputId": "e0e29915-4a5b-4c11-ad66-8412a3a48a73"
      },
      "source": [
        "# monthly charges by customer who churn or not churn\n",
        "ax = df.groupby(\"Churn\")[['MonthlyCharges']].agg('sum').reset_index().rename(columns = {'MonthlyCharges':'TotalCharges'}).plot(kind  = 'bar', color = ['gold', 'violet'])\n",
        "\n",
        "for bar in ax.patches:\n",
        "    ax.annotate(format(bar.get_height(), '.2f'), \n",
        "                   (bar.get_x() + bar.get_width() / 2, \n",
        "                    bar.get_height()), ha='center', # horizontally align label at center\n",
        "                va='center',                        # Vertically align label at center\n",
        "                   size=10, xytext=(0, 9),\n",
        "                   textcoords='offset points')\n",
        "plt.xlabel(\"Churn\", fontsize = 12)\n",
        "plt.ylabel(\"TotalAmount\", fontsize = 12)\n",
        "plt.show()"
      ],
      "execution_count": null,
      "outputs": [
        {
          "output_type": "display_data",
          "data": {
            "image/png": "[encoded data removed]",
            "text/plain": [
              "<Figure size 432x288 with 1 Axes>"
            ]
          },
          "metadata": {
            "tags": [],
            "needs_background": "light"
          }
        }
      ]
    },
    {
      "cell_type": "markdown",
      "metadata": {
        "id": "9ShHwKMzH9Bs"
      },
      "source": [
        "# Explore categorical Features"
      ]
    },
    {
      "cell_type": "code",
      "metadata": {
        "id": "qXXfHky9BZWC",
        "colab": {
          "base_uri": "https://localhost:8080/"
        },
        "outputId": "43e48709-5f25-4225-8792-005ba2b1d2bc"
      },
      "source": [
        "# Remap the values of the dataframe\n",
        "df['Churn']= df['Churn'].map({'Yes':1, 'No':0})\n",
        "df.Churn.dtype"
      ],
      "execution_count": null,
      "outputs": [
        {
          "output_type": "execute_result",
          "data": {
            "text/plain": [
              "dtype('int64')"
            ]
          },
          "metadata": {
            "tags": []
          },
          "execution_count": 69
        }
      ]
    },
    {
      "cell_type": "code",
      "metadata": {
        "colab": {
          "base_uri": "https://localhost:8080/",
          "height": 623
        },
        "id": "Rj3Sanag6HOa",
        "outputId": "b3b85c18-a542-4ce3-a03f-13b2435a192d"
      },
      "source": [
        "services = ['PhoneService','MultipleLines','InternetService','OnlineSecurity','OnlineBackup','DeviceProtection','TechSupport','StreamingTV',\n",
        "            'StreamingMovies']  # list of columns that needs to be ploted in single plot\n",
        "\n",
        "sns.set_theme (context='notebook', style='whitegrid', font='sans-serif', font_scale=1, color_codes=True)\n",
        "fig, axes = plt.subplots(nrows = 3,ncols = 3,figsize = (12,8), sharey='row')\n",
        "for i, item in enumerate(services):\n",
        "    if i < 3:\n",
        "        ax = sns.barplot(x = df.groupby(item)[['Churn']].mean().index, y = df.groupby(item)[['Churn']].mean().Churn.values, ax = axes[i,0],  palette= 'cool')\n",
        "    elif i >=3 and i < 6:\n",
        "\n",
        "        ax = sns.barplot(x = df.groupby(item)[['Churn']].mean().index, y = df.groupby(item)[['Churn']].mean().Churn.values, ax = axes[i-3, 1], palette= 'seismic')\n",
        "      \n",
        "    elif i < 9:\n",
        "        ax = sns.barplot(x = df.groupby(item)[['Churn']].mean().index, y = df.groupby(item)[['Churn']].mean().Churn.values, ax = axes[i-6,2], palette=  'RdYlBu')\n",
        "\n",
        "    \n",
        "    ax.set_ylabel('Churn_Rate ')\n",
        "    fig.suptitle('Churn Rate of Various Services', x = .50 , y = 1.05, fontsize = 20 )\n",
        "    plt.tight_layout()"
      ],
      "execution_count": null,
      "outputs": [
        {
          "output_type": "display_data",
          "data": {
            "image/png": "[encoded data removed]",
            "text/plain": [
              "<Figure size 864x576 with 9 Axes>"
            ]
          },
          "metadata": {
            "tags": []
          }
        }
      ]
    },
    {
      "cell_type": "markdown",
      "metadata": {
        "id": "UKSFI13c0RnB"
      },
      "source": [
        "**Internet Service**, The customers who have Fiber optic as internet service are more likely to churn, I normally expect Fiber optic customers to churn less since they use a more premium service. But this can happen due to high prices, competition, customer service, and many other reasons.\n",
        "\n",
        "**Online Security**, The customer who do not have online security are more likey to churn"
      ]
    },
    {
      "cell_type": "code",
      "metadata": {
        "colab": {
          "base_uri": "https://localhost:8080/",
          "height": 339
        },
        "id": "B0x_hPmsnVvi",
        "outputId": "f51eabc5-0d7b-43a6-9a52-46289c194296"
      },
      "source": [
        "list2  = ['Partner', 'Contract', 'PaymentMethod'] # list of columns that needs to be ploted in single plot\n",
        "fig, axes = plt.subplots(nrows = 1,ncols = 3,figsize = (20,5))\n",
        "for i, item in enumerate(list2):\n",
        "     if i < 3:\n",
        "        ax = sns.barplot(y = df.groupby(item)[['Churn']].mean().index, x = df.groupby(item)[['Churn']].mean().Churn.values, ax = axes[i],  palette= 'rainbow')\n",
        "     fig.suptitle(\"ChurnRate ---- Partner : Contract : Payment Method\", x = 0.5, y = 1.1, fontsize = 20, fontdict = {'color':'Darkblue'})\n",
        "     ax.set_xlabel(\"Churn Rate\", size = 15, weight = 'bold')\n",
        "     plt.tight_layout()"
      ],
      "execution_count": null,
      "outputs": [
        {
          "output_type": "display_data",
          "data": {
            "image/png": "[encoded data removed]",
            "text/plain": [
              "<Figure size 1440x360 with 3 Axes>"
            ]
          },
          "metadata": {
            "tags": []
          }
        }
      ]
    },
    {
      "cell_type": "markdown",
      "metadata": {
        "id": "I2bkKnkpzg9r"
      },
      "source": [
        "**Contract**   People who are on month to month contract are more likely to get churned, and  customer who are having 2 years contract are more loyal customers and less likely to churn.\n",
        "Customer are taking a longer contract are goint to be  loyal customer for the company"
      ]
    },
    {
      "cell_type": "markdown",
      "metadata": {
        "id": "GBVP-JOpz6zT"
      },
      "source": [
        "**Payment Method** Customers who have payment method as Electronic Check are more likely to churn and customers with Credit Card(automatic) are less likely to churn and more loyal customers"
      ]
    },
    {
      "cell_type": "markdown",
      "metadata": {
        "id": "7z8IHjBM4FpM"
      },
      "source": [
        "**Explore Churn by Tenure**"
      ]
    },
    {
      "cell_type": "code",
      "metadata": {
        "colab": {
          "base_uri": "https://localhost:8080/",
          "height": 303
        },
        "id": "qJRONYLd4IZp",
        "outputId": "38f6f8f7-d330-4d0b-9a0d-c469d065997f"
      },
      "source": [
        "sns.boxplot(x = df.Churn, y = df.tenure, palette= 'hot' ).set_title(\"Churn vs Tenure(Months)\", size = 15)\n",
        "plt.show()"
      ],
      "execution_count": null,
      "outputs": [
        {
          "output_type": "display_data",
          "data": {
            "image/png": "[encoded data removed]",
            "text/plain": [
              "<Figure size 432x288 with 1 Axes>"
            ]
          },
          "metadata": {
            "tags": []
          }
        }
      ]
    },
    {
      "cell_type": "markdown",
      "metadata": {
        "id": "e4PRnViK4aaJ"
      },
      "source": [
        "**Churn vs Tenure**Customers who are not churning they tend to stay for longer time"
      ]
    },
    {
      "cell_type": "markdown",
      "metadata": {
        "id": "0N4mWBaH7RXW"
      },
      "source": [
        "**Female and Male who are seniorcitizen**"
      ]
    },
    {
      "cell_type": "code",
      "metadata": {
        "colab": {
          "base_uri": "https://localhost:8080/",
          "height": 399
        },
        "id": "nENprtB44WFT",
        "outputId": "9caae4ce-def8-407c-de1d-857a6032ef6c"
      },
      "source": [
        "sns.catplot(y=\"PaymentMethod\",   hue=\"gender\", col=\"Churn\", aspect=.6, kind=\"count\",  data=df,palette='gist_rainbow')\n",
        "plt.figure(figsize=(15, 5))\n",
        "\n",
        "plt.show()"
      ],
      "execution_count": null,
      "outputs": [
        {
          "output_type": "display_data",
          "data": {
            "image/png": "[encoded data removed]",
            "text/plain": [
              "<Figure size 511.725x360 with 2 Axes>"
            ]
          },
          "metadata": {
            "tags": []
          }
        },
        {
          "output_type": "display_data",
          "data": {
            "text/plain": [
              "<Figure size 1080x360 with 0 Axes>"
            ]
          },
          "metadata": {
            "tags": []
          }
        }
      ]
    },
    {
      "cell_type": "markdown",
      "metadata": {
        "id": "77zXM9TE9y3z"
      },
      "source": [
        "**Male seniorCitizen who are more likely to churn  tend to stay for longer periord than female senior citizen** "
      ]
    },
    {
      "cell_type": "code",
      "metadata": {
        "id": "UMI0esCOLU1G"
      },
      "source": [
        "df['SeniorCitizen'] = df['SeniorCitizen'].astype(str)"
      ],
      "execution_count": null,
      "outputs": []
    },
    {
      "cell_type": "code",
      "metadata": {
        "colab": {
          "base_uri": "https://localhost:8080/",
          "height": 303
        },
        "id": "YagXbZFHQv0c",
        "outputId": "5306171e-351c-4aff-898b-65f2e0a57332"
      },
      "source": [
        "df3 = df.groupby('SeniorCitizen')[['Churn', 'gender']].mean().reset_index().rename(columns = {'Churn':'ChurnRate'})\n",
        "ax = sns.barplot(x = df3.SeniorCitizen, y = df3.ChurnRate, palette= 'Accent')\n",
        "\n",
        "for bar in ax.patches:\n",
        "  ax.annotate(format(bar.get_height(), '.2f'), \n",
        "                   (bar.get_x() + bar.get_width() / 2, \n",
        "                    bar.get_height()), ha='center', # horizontally align label at center\n",
        "                va='center',                        # Vertically align label at center\n",
        "                   size=10, xytext=(0, 9),color = 'Darkblue',weight = 'bold',\n",
        "                   textcoords='offset points')\n",
        "ax.set_ylabel(' Customers',size = 15)\n",
        "ax.set_xlabel('SeniorCitizens')\n",
        "ax.set_title('Churn rate of Senior Citizens',size = 15)\n",
        "plt.show()\n",
        "#ax.annotate('{:.0f}%'.format(height), (p.get_x()+.25*width, p.get_y()+.4*height),\n",
        "                "
      ],
      "execution_count": null,
      "outputs": [
        {
          "output_type": "display_data",
          "data": {
            "image/png": "[encoded data removed]",
            "text/plain": [
              "<Figure size 432x288 with 1 Axes>"
            ]
          },
          "metadata": {
            "tags": []
          }
        }
      ]
    },
    {
      "cell_type": "markdown",
      "metadata": {
        "id": "47X_0KFeIr6r"
      },
      "source": [
        "** % of Senior Citizen who are churning is double than young people*\n",
        "\n"
      ]
    },
    {
      "cell_type": "markdown",
      "metadata": {
        "id": "znQGmFtIKeAG"
      },
      "source": [
        "**Relationship between MonthlyCharges vs TotalCharges**"
      ]
    },
    {
      "cell_type": "code",
      "metadata": {
        "colab": {
          "base_uri": "https://localhost:8080/",
          "height": 285
        },
        "id": "QHHNG1omKct0",
        "outputId": "6b334caa-7fbb-45e2-8b48-61f8dd8b6f71"
      },
      "source": [
        "df[['MonthlyCharges', 'TotalCharges']].plot.scatter(x = 'MonthlyCharges', y='TotalCharges', color = 'violet')\n",
        "plt.show()"
      ],
      "execution_count": null,
      "outputs": [
        {
          "output_type": "display_data",
          "data": {
            "image/png": "[encoded data removed]",
            "text/plain": [
              "<Figure size 432x288 with 1 Axes>"
            ]
          },
          "metadata": {
            "tags": []
          }
        }
      ]
    },
    {
      "cell_type": "markdown",
      "metadata": {
        "id": "MjRLEqQDKuo9"
      },
      "source": [
        "**Monthly charges increase also total charges increase**"
      ]
    },
    {
      "cell_type": "markdown",
      "metadata": {
        "id": "VyTzXb0AELYk"
      },
      "source": [
        "**Relationship between ChurnRate and Tenure**"
      ]
    },
    {
      "cell_type": "code",
      "metadata": {
        "colab": {
          "base_uri": "https://localhost:8080/",
          "height": 303
        },
        "id": "xGum7RqABeeg",
        "outputId": "2679a8e6-14cc-41ed-9918-d936aaf70777"
      },
      "source": [
        "churn_tenure = df.groupby('tenure').Churn.mean().reset_index().rename(columns = {'Churn':'ChurnRate'})\n",
        "sns.scatterplot(x ='tenure', y = 'ChurnRate', markers= '*', data = churn_tenure).set_title(\"Tenure based Churn Rate\", size = 15, fontdict = {'color':'Darkblue'})\n",
        "plt.show()"
      ],
      "execution_count": null,
      "outputs": [
        {
          "output_type": "display_data",
          "data": {
            "image/png": "[encoded data removed]",
            "text/plain": [
              "<Figure size 432x288 with 1 Axes>"
            ]
          },
          "metadata": {
            "tags": []
          }
        }
      ]
    },
    {
      "cell_type": "markdown",
      "metadata": {
        "id": "98i8o8zlEVi4"
      },
      "source": [
        "**As tenure(months the customer stay with company) increases the churnrate of customers decrease**"
      ]
    },
    {
      "cell_type": "markdown",
      "metadata": {
        "id": "j2rNmIhZK9_0"
      },
      "source": [
        "**Find is there any pattern among Monthly and Total Charges with Customer churn**"
      ]
    },
    {
      "cell_type": "markdown",
      "metadata": {
        "id": "SZELzeoON02Q"
      },
      "source": [
        "#Feature Engineering\n",
        "\n",
        "Transform our raw features to extract more information from them.  strategy is as follows:\n",
        "\n",
        "* Group the numerical columns by using k- means Clustering"
      ]
    },
    {
      "cell_type": "code",
      "metadata": {
        "id": "V3fQNPFQP_lD"
      },
      "source": [
        "# Create a function for order the cluster\n",
        "def order_cluster(cluster_field_name, target_field_name,df,ascending):\n",
        "    new_cluster_field_name = 'new_' + cluster_field_name\n",
        "    df_new = df.groupby(cluster_field_name)[target_field_name].mean().reset_index()\n",
        "    df_new = df_new.sort_values(by=target_field_name,ascending=ascending).reset_index(drop=True)\n",
        "    df_new['index'] = df_new.index\n",
        "    df_final = pd.merge(df,df_new[[cluster_field_name,'index']], on=cluster_field_name)\n",
        "    df_final = df_final.drop([cluster_field_name],axis=1)\n",
        "    df_final = df_final.rename(columns={\"index\":cluster_field_name})\n",
        "    return df_final"
      ],
      "execution_count": null,
      "outputs": []
    },
    {
      "cell_type": "markdown",
      "metadata": {
        "id": "jRoB6vegtB7Y"
      },
      "source": [
        "**K-means on tenure**"
      ]
    },
    {
      "cell_type": "code",
      "metadata": {
        "colab": {
          "base_uri": "https://localhost:8080/",
          "height": 376
        },
        "id": "n-22Gk_EP_L2",
        "outputId": "7abae417-3421-44f8-98d0-111779826817"
      },
      "source": [
        "sse={}\n",
        "df_cluster = df[['tenure']]\n",
        "from yellowbrick.cluster import KElbowVisualizer\n",
        "# Instantiate the clustering model and visualizer\n",
        "model = KMeans()\n",
        "visualizer = KElbowVisualizer(model, k=(1,12))\n",
        "\n",
        "visualizer.fit(df_cluster)        # Fit the data to the visualizer\n",
        "visualizer.poof()"
      ],
      "execution_count": null,
      "outputs": [
        {
          "output_type": "display_data",
          "data": {
            "image/png": "[encoded data removed]",
            "text/plain": [
              "<Figure size 576x396 with 2 Axes>"
            ]
          },
          "metadata": {
            "tags": []
          }
        }
      ]
    },
    {
      "cell_type": "markdown",
      "metadata": {
        "id": "zo6NWB9nlki7"
      },
      "source": [
        "** Number of cluster 3 as suggested by elbow method**"
      ]
    },
    {
      "cell_type": "code",
      "metadata": {
        "id": "_HIUhON73kVZ"
      },
      "source": [
        "km = KMeans(n_clusters = 3).fit(df[['tenure']])\n",
        "\n",
        "df['tenure_cluster'] = km.predict(df[['tenure']])"
      ],
      "execution_count": null,
      "outputs": []
    },
    {
      "cell_type": "code",
      "metadata": {
        "id": "dyzQzXQK4iFe"
      },
      "source": [
        "df = order_cluster('tenure_cluster', 'tenure',df,True)"
      ],
      "execution_count": null,
      "outputs": []
    },
    {
      "cell_type": "code",
      "metadata": {
        "colab": {
          "base_uri": "https://localhost:8080/",
          "height": 171
        },
        "id": "o3HfJQC95Vt5",
        "outputId": "d0e056ec-2eb4-4f30-c49c-8093f439377f"
      },
      "source": [
        "df.groupby('tenure_cluster').tenure.describe()"
      ],
      "execution_count": null,
      "outputs": [
        {
          "output_type": "execute_result",
          "data": {
            "text/html": [
              "<div>\n",
              "<style scoped>\n",
              "    .dataframe tbody tr th:only-of-type {\n",
              "        vertical-align: middle;\n",
              "    }\n",
              "\n",
              "    .dataframe tbody tr th {\n",
              "        vertical-align: top;\n",
              "    }\n",
              "\n",
              "    .dataframe thead th {\n",
              "        text-align: right;\n",
              "    }\n",
              "</style>\n",
              "<table border=\"1\" class=\"dataframe\">\n",
              "  <thead>\n",
              "    <tr style=\"text-align: right;\">\n",
              "      <th></th>\n",
              "      <th>count</th>\n",
              "      <th>mean</th>\n",
              "      <th>std</th>\n",
              "      <th>min</th>\n",
              "      <th>25%</th>\n",
              "      <th>50%</th>\n",
              "      <th>75%</th>\n",
              "      <th>max</th>\n",
              "    </tr>\n",
              "    <tr>\n",
              "      <th>tenure_cluster</th>\n",
              "      <th></th>\n",
              "      <th></th>\n",
              "      <th></th>\n",
              "      <th></th>\n",
              "      <th></th>\n",
              "      <th></th>\n",
              "      <th></th>\n",
              "      <th></th>\n",
              "    </tr>\n",
              "  </thead>\n",
              "  <tbody>\n",
              "    <tr>\n",
              "      <th>0</th>\n",
              "      <td>2867.0</td>\n",
              "      <td>7.541332</td>\n",
              "      <td>5.970615</td>\n",
              "      <td>1.0</td>\n",
              "      <td>2.0</td>\n",
              "      <td>6.0</td>\n",
              "      <td>12.0</td>\n",
              "      <td>20.0</td>\n",
              "    </tr>\n",
              "    <tr>\n",
              "      <th>1</th>\n",
              "      <td>1926.0</td>\n",
              "      <td>33.854102</td>\n",
              "      <td>8.208706</td>\n",
              "      <td>21.0</td>\n",
              "      <td>26.0</td>\n",
              "      <td>34.0</td>\n",
              "      <td>41.0</td>\n",
              "      <td>48.0</td>\n",
              "    </tr>\n",
              "    <tr>\n",
              "      <th>2</th>\n",
              "      <td>2239.0</td>\n",
              "      <td>63.048682</td>\n",
              "      <td>7.478229</td>\n",
              "      <td>49.0</td>\n",
              "      <td>56.0</td>\n",
              "      <td>64.0</td>\n",
              "      <td>70.0</td>\n",
              "      <td>72.0</td>\n",
              "    </tr>\n",
              "  </tbody>\n",
              "</table>\n",
              "</div>"
            ],
            "text/plain": [
              "                 count       mean       std   min   25%   50%   75%   max\n",
              "tenure_cluster                                                           \n",
              "0               2867.0   7.541332  5.970615   1.0   2.0   6.0  12.0  20.0\n",
              "1               1926.0  33.854102  8.208706  21.0  26.0  34.0  41.0  48.0\n",
              "2               2239.0  63.048682  7.478229  49.0  56.0  64.0  70.0  72.0"
            ]
          },
          "metadata": {
            "tags": []
          },
          "execution_count": 82
        }
      ]
    },
    {
      "cell_type": "code",
      "metadata": {
        "id": "NmmSRdHlnCA0"
      },
      "source": [
        "df['tenure_cluster'] = df[\"tenure_cluster\"].replace({0:'Low',1:'Mid',2:'High'})\n"
      ],
      "execution_count": null,
      "outputs": []
    },
    {
      "cell_type": "markdown",
      "metadata": {
        "id": "8-9f1GrZ2Agq"
      },
      "source": [
        "**Monthly Charges Cluster**\n"
      ]
    },
    {
      "cell_type": "code",
      "metadata": {
        "colab": {
          "base_uri": "https://localhost:8080/",
          "height": 240
        },
        "id": "lQfZyfQyxjYc",
        "outputId": "b991ac28-21a8-4cd5-8366-7645874196f1"
      },
      "source": [
        "interia = {}\n",
        "\n",
        "df_cluster = df[['MonthlyCharges']]\n",
        "for k in range(1, 10):\n",
        "  kmeans = KMeans(n_clusters= k, max_iter= 1000).fit(df_cluster)\n",
        "  df_cluster['clusters'] = kmeans.labels_\n",
        "  interia[k] = kmeans.inertia_\n",
        "plt.figure(figsize = (5,3))\n",
        "plt.plot(list(interia.keys()), list(interia.values()))\n",
        "plt.xlabel(\"Number of Clusters\")\n",
        "plt.title(\"Elbow method for Monthly Charges \")\n",
        "plt.show()"
      ],
      "execution_count": null,
      "outputs": [
        {
          "output_type": "display_data",
          "data": {
            "image/png": "[encoded data removed]",
            "text/plain": [
              "<Figure size 360x216 with 1 Axes>"
            ]
          },
          "metadata": {
            "tags": []
          }
        }
      ]
    },
    {
      "cell_type": "code",
      "metadata": {
        "id": "JUWM_ja4xjbX"
      },
      "source": [
        "kmeans = KMeans(n_clusters = 3).fit(df[['MonthlyCharges']])\n",
        "\n",
        "df['monthlycharges_cluster'] = kmeans.predict(df[['MonthlyCharges']])"
      ],
      "execution_count": null,
      "outputs": []
    },
    {
      "cell_type": "code",
      "metadata": {
        "id": "z5RhBpDQxjeN"
      },
      "source": [
        "\n",
        "df = order_cluster('monthlycharges_cluster', 'MonthlyCharges',df,True)"
      ],
      "execution_count": null,
      "outputs": []
    },
    {
      "cell_type": "code",
      "metadata": {
        "colab": {
          "base_uri": "https://localhost:8080/",
          "height": 171
        },
        "id": "eIZAtx5_7Uwi",
        "outputId": "97cad7c2-ce6c-4639-8ee8-faa58efc663e"
      },
      "source": [
        "df.groupby('monthlycharges_cluster').MonthlyCharges.describe()"
      ],
      "execution_count": null,
      "outputs": [
        {
          "output_type": "execute_result",
          "data": {
            "text/html": [
              "<div>\n",
              "<style scoped>\n",
              "    .dataframe tbody tr th:only-of-type {\n",
              "        vertical-align: middle;\n",
              "    }\n",
              "\n",
              "    .dataframe tbody tr th {\n",
              "        vertical-align: top;\n",
              "    }\n",
              "\n",
              "    .dataframe thead th {\n",
              "        text-align: right;\n",
              "    }\n",
              "</style>\n",
              "<table border=\"1\" class=\"dataframe\">\n",
              "  <thead>\n",
              "    <tr style=\"text-align: right;\">\n",
              "      <th></th>\n",
              "      <th>count</th>\n",
              "      <th>mean</th>\n",
              "      <th>std</th>\n",
              "      <th>min</th>\n",
              "      <th>25%</th>\n",
              "      <th>50%</th>\n",
              "      <th>75%</th>\n",
              "      <th>max</th>\n",
              "    </tr>\n",
              "    <tr>\n",
              "      <th>monthlycharges_cluster</th>\n",
              "      <th></th>\n",
              "      <th></th>\n",
              "      <th></th>\n",
              "      <th></th>\n",
              "      <th></th>\n",
              "      <th></th>\n",
              "      <th></th>\n",
              "      <th></th>\n",
              "    </tr>\n",
              "  </thead>\n",
              "  <tbody>\n",
              "    <tr>\n",
              "      <th>0</th>\n",
              "      <td>1888.0</td>\n",
              "      <td>22.949153</td>\n",
              "      <td>5.718865</td>\n",
              "      <td>18.0</td>\n",
              "      <td>19.0</td>\n",
              "      <td>20.0</td>\n",
              "      <td>25.00</td>\n",
              "      <td>42.0</td>\n",
              "    </tr>\n",
              "    <tr>\n",
              "      <th>1</th>\n",
              "      <td>2238.0</td>\n",
              "      <td>61.207328</td>\n",
              "      <td>10.453204</td>\n",
              "      <td>43.0</td>\n",
              "      <td>52.0</td>\n",
              "      <td>61.0</td>\n",
              "      <td>70.00</td>\n",
              "      <td>77.0</td>\n",
              "    </tr>\n",
              "    <tr>\n",
              "      <th>2</th>\n",
              "      <td>2906.0</td>\n",
              "      <td>93.625602</td>\n",
              "      <td>10.336851</td>\n",
              "      <td>78.0</td>\n",
              "      <td>85.0</td>\n",
              "      <td>93.0</td>\n",
              "      <td>101.75</td>\n",
              "      <td>118.0</td>\n",
              "    </tr>\n",
              "  </tbody>\n",
              "</table>\n",
              "</div>"
            ],
            "text/plain": [
              "                         count       mean        std  ...   50%     75%    max\n",
              "monthlycharges_cluster                                ...                     \n",
              "0                       1888.0  22.949153   5.718865  ...  20.0   25.00   42.0\n",
              "1                       2238.0  61.207328  10.453204  ...  61.0   70.00   77.0\n",
              "2                       2906.0  93.625602  10.336851  ...  93.0  101.75  118.0\n",
              "\n",
              "[3 rows x 8 columns]"
            ]
          },
          "metadata": {
            "tags": []
          },
          "execution_count": 87
        }
      ]
    },
    {
      "cell_type": "code",
      "metadata": {
        "id": "abRP2qpI774t"
      },
      "source": [
        "df['monthlycharges_cluster'] = df[\"monthlycharges_cluster\"].replace({0:'Low',1:'Mid',2:'High'})"
      ],
      "execution_count": null,
      "outputs": []
    },
    {
      "cell_type": "markdown",
      "metadata": {
        "id": "4l6yRQEV8fAo"
      },
      "source": [
        "**TotalCharges Cluster**"
      ]
    },
    {
      "cell_type": "code",
      "metadata": {
        "id": "KUGOSVnRAVoT"
      },
      "source": [
        "df['TotalCharges'] = pd.to_numeric(df['TotalCharges'],errors = 'coerce')"
      ],
      "execution_count": null,
      "outputs": []
    },
    {
      "cell_type": "code",
      "metadata": {
        "colab": {
          "base_uri": "https://localhost:8080/",
          "height": 236
        },
        "id": "r1ksBqHH8dld",
        "outputId": "7e6ae144-b590-4569-c024-5b2ab07c16c3"
      },
      "source": [
        "interia = {}\n",
        "\n",
        "df_cluster = df[['TotalCharges']]\n",
        "for k in range(1, 10):\n",
        "  kmeans = KMeans(n_clusters= k, max_iter= 1000).fit(df_cluster)\n",
        "  df_cluster['clusters'] = kmeans.labels_\n",
        "  interia[k] = kmeans.inertia_\n",
        "plt.figure(figsize = (5,3))\n",
        "plt.plot(list(interia.keys()), list(interia.values()))\n",
        "plt.xlabel(\"Number of Clusters\")\n",
        "plt.show()"
      ],
      "execution_count": null,
      "outputs": [
        {
          "output_type": "display_data",
          "data": {
            "image/png": "[encoded data removed]",
            "text/plain": [
              "<Figure size 360x216 with 1 Axes>"
            ]
          },
          "metadata": {
            "tags": []
          }
        }
      ]
    },
    {
      "cell_type": "code",
      "metadata": {
        "id": "dmiHtnkj-pKZ"
      },
      "source": [
        "kmeans = KMeans(n_clusters= 3).fit(df[['TotalCharges']])\n",
        "df['totalcharges_cluster'] = kmeans.predict(df[['TotalCharges']])"
      ],
      "execution_count": null,
      "outputs": []
    },
    {
      "cell_type": "code",
      "metadata": {
        "id": "1H9LSDub_NYw"
      },
      "source": [
        "df = order_cluster('totalcharges_cluster', 'TotalCharges', df, True)"
      ],
      "execution_count": null,
      "outputs": []
    },
    {
      "cell_type": "code",
      "metadata": {
        "colab": {
          "base_uri": "https://localhost:8080/",
          "height": 171
        },
        "id": "EZgfmm_G_p1m",
        "outputId": "c32a9720-1e3e-42b0-ae96-4e52d135633d"
      },
      "source": [
        "df.groupby('totalcharges_cluster').TotalCharges.describe()"
      ],
      "execution_count": null,
      "outputs": [
        {
          "output_type": "execute_result",
          "data": {
            "text/html": [
              "<div>\n",
              "<style scoped>\n",
              "    .dataframe tbody tr th:only-of-type {\n",
              "        vertical-align: middle;\n",
              "    }\n",
              "\n",
              "    .dataframe tbody tr th {\n",
              "        vertical-align: top;\n",
              "    }\n",
              "\n",
              "    .dataframe thead th {\n",
              "        text-align: right;\n",
              "    }\n",
              "</style>\n",
              "<table border=\"1\" class=\"dataframe\">\n",
              "  <thead>\n",
              "    <tr style=\"text-align: right;\">\n",
              "      <th></th>\n",
              "      <th>count</th>\n",
              "      <th>mean</th>\n",
              "      <th>std</th>\n",
              "      <th>min</th>\n",
              "      <th>25%</th>\n",
              "      <th>50%</th>\n",
              "      <th>75%</th>\n",
              "      <th>max</th>\n",
              "    </tr>\n",
              "    <tr>\n",
              "      <th>totalcharges_cluster</th>\n",
              "      <th></th>\n",
              "      <th></th>\n",
              "      <th></th>\n",
              "      <th></th>\n",
              "      <th></th>\n",
              "      <th></th>\n",
              "      <th></th>\n",
              "      <th></th>\n",
              "    </tr>\n",
              "  </thead>\n",
              "  <tbody>\n",
              "    <tr>\n",
              "      <th>0</th>\n",
              "      <td>4145.0</td>\n",
              "      <td>681.571628</td>\n",
              "      <td>567.841968</td>\n",
              "      <td>18.80</td>\n",
              "      <td>160.85</td>\n",
              "      <td>533.050</td>\n",
              "      <td>1131.50</td>\n",
              "      <td>1955.40</td>\n",
              "    </tr>\n",
              "    <tr>\n",
              "      <th>1</th>\n",
              "      <td>1614.0</td>\n",
              "      <td>3247.577664</td>\n",
              "      <td>811.487751</td>\n",
              "      <td>1956.40</td>\n",
              "      <td>2530.65</td>\n",
              "      <td>3187.175</td>\n",
              "      <td>3952.60</td>\n",
              "      <td>4747.65</td>\n",
              "    </tr>\n",
              "    <tr>\n",
              "      <th>2</th>\n",
              "      <td>1273.0</td>\n",
              "      <td>6276.091084</td>\n",
              "      <td>1010.606586</td>\n",
              "      <td>4747.85</td>\n",
              "      <td>5443.65</td>\n",
              "      <td>6137.000</td>\n",
              "      <td>7031.45</td>\n",
              "      <td>8684.80</td>\n",
              "    </tr>\n",
              "  </tbody>\n",
              "</table>\n",
              "</div>"
            ],
            "text/plain": [
              "                       count         mean  ...      75%      max\n",
              "totalcharges_cluster                       ...                  \n",
              "0                     4145.0   681.571628  ...  1131.50  1955.40\n",
              "1                     1614.0  3247.577664  ...  3952.60  4747.65\n",
              "2                     1273.0  6276.091084  ...  7031.45  8684.80\n",
              "\n",
              "[3 rows x 8 columns]"
            ]
          },
          "metadata": {
            "tags": []
          },
          "execution_count": 93
        }
      ]
    },
    {
      "cell_type": "code",
      "metadata": {
        "id": "2StjNoJS_3ZS"
      },
      "source": [
        "df['totalcharges_cluster'] = df['totalcharges_cluster'].replace({0:'low', 1:'medium', 2:'high'})"
      ],
      "execution_count": null,
      "outputs": []
    },
    {
      "cell_type": "code",
      "metadata": {
        "colab": {
          "base_uri": "https://localhost:8080/",
          "height": 335
        },
        "id": "7w49CFU52SI4",
        "outputId": "b430bce6-9491-4947-f785-ce34f0aec06a"
      },
      "source": [
        "sns.set_theme(style= 'whitegrid', palette= 'bright')\n",
        "list3 = ['tenure_cluster','monthlycharges_cluster', 'totalcharges_cluster' ]\n",
        "fig, axes = plt.subplots(nrows = 1,ncols = 3,figsize = (12,4))\n",
        "for i, item in enumerate(list3):\n",
        "     if i < 3:\n",
        "        ax = sns.barplot(y = df.groupby([item])[['Churn']].mean()['Churn'].to_list(), x = df.groupby([item])[['Churn']].mean()['Churn'].index, ax = axes[i])  #palette= 'rainbow')\n",
        "     fig.suptitle(\"Clusters vs Churn Rate\", x = 0.5, y = 1.1, fontsize = 20, fontdict = {'color':'Darkblue'})\n",
        "     ax.set_ylabel(\"Churn Rate\", size = 15, weight = 'bold')\n",
        "     plt.tight_layout()"
      ],
      "execution_count": null,
      "outputs": [
        {
          "output_type": "display_data",
          "data": {
            "image/png": "[encoded data removed]",
            "text/plain": [
              "<Figure size 864x288 with 3 Axes>"
            ]
          },
          "metadata": {
            "tags": []
          }
        }
      ]
    },
    {
      "cell_type": "markdown",
      "metadata": {
        "id": "-O_NTunwHEip"
      },
      "source": [
        "**Cluster Observation**\n",
        "\n",
        "* Churn rate is high when monthly charges are high \n",
        "* Churn rate is high when total charges are low\n",
        "* Churn rate is high when tenure(months) is low"
      ]
    },
    {
      "cell_type": "markdown",
      "metadata": {
        "id": "EAn16hmIJ0p1"
      },
      "source": [
        "# Predictive Modelling"
      ]
    },
    {
      "cell_type": "code",
      "metadata": {
        "id": "ulqCroaRJ6zD"
      },
      "source": [
        "le = LabelEncoder()\n",
        "dummy_col = []\n",
        "\n",
        "for col in df.columns:\n",
        "  if df[col].dtype == object:\n",
        "    if df[col].nunique() == 2:\n",
        "      # apply label encoder for binary ones\n",
        "      df[col] = le.fit_transform(df[col])\n",
        "    else:\n",
        "      dummy_col.append(col)\n",
        "# apply get dummies for selected columns\n",
        "df = pd.get_dummies(data =df, columns = dummy_col)"
      ],
      "execution_count": null,
      "outputs": []
    },
    {
      "cell_type": "code",
      "metadata": {
        "colab": {
          "base_uri": "https://localhost:8080/",
          "height": 257
        },
        "id": "qXyRw6CpKGZE",
        "outputId": "ee3ac60d-ba53-4f59-9b53-02c6c4226e8d"
      },
      "source": [
        "df.head()"
      ],
      "execution_count": null,
      "outputs": [
        {
          "output_type": "execute_result",
          "data": {
            "text/html": [
              "<div>\n",
              "<style scoped>\n",
              "    .dataframe tbody tr th:only-of-type {\n",
              "        vertical-align: middle;\n",
              "    }\n",
              "\n",
              "    .dataframe tbody tr th {\n",
              "        vertical-align: top;\n",
              "    }\n",
              "\n",
              "    .dataframe thead th {\n",
              "        text-align: right;\n",
              "    }\n",
              "</style>\n",
              "<table border=\"1\" class=\"dataframe\">\n",
              "  <thead>\n",
              "    <tr style=\"text-align: right;\">\n",
              "      <th></th>\n",
              "      <th>gender</th>\n",
              "      <th>SeniorCitizen</th>\n",
              "      <th>Partner</th>\n",
              "      <th>Dependents</th>\n",
              "      <th>tenure</th>\n",
              "      <th>PhoneService</th>\n",
              "      <th>PaperlessBilling</th>\n",
              "      <th>MonthlyCharges</th>\n",
              "      <th>TotalCharges</th>\n",
              "      <th>Churn</th>\n",
              "      <th>MultipleLines_No</th>\n",
              "      <th>MultipleLines_No phone service</th>\n",
              "      <th>MultipleLines_Yes</th>\n",
              "      <th>InternetService_DSL</th>\n",
              "      <th>InternetService_Fiber optic</th>\n",
              "      <th>InternetService_No</th>\n",
              "      <th>OnlineSecurity_No</th>\n",
              "      <th>OnlineSecurity_No internet service</th>\n",
              "      <th>OnlineSecurity_Yes</th>\n",
              "      <th>OnlineBackup_No</th>\n",
              "      <th>OnlineBackup_No internet service</th>\n",
              "      <th>OnlineBackup_Yes</th>\n",
              "      <th>DeviceProtection_No</th>\n",
              "      <th>DeviceProtection_No internet service</th>\n",
              "      <th>DeviceProtection_Yes</th>\n",
              "      <th>TechSupport_No</th>\n",
              "      <th>TechSupport_No internet service</th>\n",
              "      <th>TechSupport_Yes</th>\n",
              "      <th>StreamingTV_No</th>\n",
              "      <th>StreamingTV_No internet service</th>\n",
              "      <th>StreamingTV_Yes</th>\n",
              "      <th>StreamingMovies_No</th>\n",
              "      <th>StreamingMovies_No internet service</th>\n",
              "      <th>StreamingMovies_Yes</th>\n",
              "      <th>Contract_Month-to-month</th>\n",
              "      <th>Contract_One year</th>\n",
              "      <th>Contract_Two year</th>\n",
              "      <th>PaymentMethod_Bank transfer (automatic)</th>\n",
              "      <th>PaymentMethod_Credit card (automatic)</th>\n",
              "      <th>PaymentMethod_Electronic check</th>\n",
              "      <th>PaymentMethod_Mailed check</th>\n",
              "      <th>tenure_cluster_High</th>\n",
              "      <th>tenure_cluster_Low</th>\n",
              "      <th>tenure_cluster_Mid</th>\n",
              "      <th>monthlycharges_cluster_High</th>\n",
              "      <th>monthlycharges_cluster_Low</th>\n",
              "      <th>monthlycharges_cluster_Mid</th>\n",
              "      <th>totalcharges_cluster_high</th>\n",
              "      <th>totalcharges_cluster_low</th>\n",
              "      <th>totalcharges_cluster_medium</th>\n",
              "    </tr>\n",
              "  </thead>\n",
              "  <tbody>\n",
              "    <tr>\n",
              "      <th>0</th>\n",
              "      <td>0</td>\n",
              "      <td>0</td>\n",
              "      <td>1</td>\n",
              "      <td>0</td>\n",
              "      <td>1</td>\n",
              "      <td>0</td>\n",
              "      <td>1</td>\n",
              "      <td>29</td>\n",
              "      <td>29.85</td>\n",
              "      <td>0</td>\n",
              "      <td>0</td>\n",
              "      <td>1</td>\n",
              "      <td>0</td>\n",
              "      <td>1</td>\n",
              "      <td>0</td>\n",
              "      <td>0</td>\n",
              "      <td>1</td>\n",
              "      <td>0</td>\n",
              "      <td>0</td>\n",
              "      <td>0</td>\n",
              "      <td>0</td>\n",
              "      <td>1</td>\n",
              "      <td>1</td>\n",
              "      <td>0</td>\n",
              "      <td>0</td>\n",
              "      <td>1</td>\n",
              "      <td>0</td>\n",
              "      <td>0</td>\n",
              "      <td>1</td>\n",
              "      <td>0</td>\n",
              "      <td>0</td>\n",
              "      <td>1</td>\n",
              "      <td>0</td>\n",
              "      <td>0</td>\n",
              "      <td>1</td>\n",
              "      <td>0</td>\n",
              "      <td>0</td>\n",
              "      <td>0</td>\n",
              "      <td>0</td>\n",
              "      <td>1</td>\n",
              "      <td>0</td>\n",
              "      <td>0</td>\n",
              "      <td>1</td>\n",
              "      <td>0</td>\n",
              "      <td>0</td>\n",
              "      <td>1</td>\n",
              "      <td>0</td>\n",
              "      <td>0</td>\n",
              "      <td>1</td>\n",
              "      <td>0</td>\n",
              "    </tr>\n",
              "    <tr>\n",
              "      <th>1</th>\n",
              "      <td>0</td>\n",
              "      <td>0</td>\n",
              "      <td>0</td>\n",
              "      <td>0</td>\n",
              "      <td>10</td>\n",
              "      <td>0</td>\n",
              "      <td>0</td>\n",
              "      <td>29</td>\n",
              "      <td>301.90</td>\n",
              "      <td>0</td>\n",
              "      <td>0</td>\n",
              "      <td>1</td>\n",
              "      <td>0</td>\n",
              "      <td>1</td>\n",
              "      <td>0</td>\n",
              "      <td>0</td>\n",
              "      <td>0</td>\n",
              "      <td>0</td>\n",
              "      <td>1</td>\n",
              "      <td>1</td>\n",
              "      <td>0</td>\n",
              "      <td>0</td>\n",
              "      <td>1</td>\n",
              "      <td>0</td>\n",
              "      <td>0</td>\n",
              "      <td>1</td>\n",
              "      <td>0</td>\n",
              "      <td>0</td>\n",
              "      <td>1</td>\n",
              "      <td>0</td>\n",
              "      <td>0</td>\n",
              "      <td>1</td>\n",
              "      <td>0</td>\n",
              "      <td>0</td>\n",
              "      <td>1</td>\n",
              "      <td>0</td>\n",
              "      <td>0</td>\n",
              "      <td>0</td>\n",
              "      <td>0</td>\n",
              "      <td>0</td>\n",
              "      <td>1</td>\n",
              "      <td>0</td>\n",
              "      <td>1</td>\n",
              "      <td>0</td>\n",
              "      <td>0</td>\n",
              "      <td>1</td>\n",
              "      <td>0</td>\n",
              "      <td>0</td>\n",
              "      <td>1</td>\n",
              "      <td>0</td>\n",
              "    </tr>\n",
              "    <tr>\n",
              "      <th>2</th>\n",
              "      <td>1</td>\n",
              "      <td>0</td>\n",
              "      <td>0</td>\n",
              "      <td>0</td>\n",
              "      <td>16</td>\n",
              "      <td>1</td>\n",
              "      <td>0</td>\n",
              "      <td>18</td>\n",
              "      <td>326.80</td>\n",
              "      <td>0</td>\n",
              "      <td>1</td>\n",
              "      <td>0</td>\n",
              "      <td>0</td>\n",
              "      <td>0</td>\n",
              "      <td>0</td>\n",
              "      <td>1</td>\n",
              "      <td>0</td>\n",
              "      <td>1</td>\n",
              "      <td>0</td>\n",
              "      <td>0</td>\n",
              "      <td>1</td>\n",
              "      <td>0</td>\n",
              "      <td>0</td>\n",
              "      <td>1</td>\n",
              "      <td>0</td>\n",
              "      <td>0</td>\n",
              "      <td>1</td>\n",
              "      <td>0</td>\n",
              "      <td>0</td>\n",
              "      <td>1</td>\n",
              "      <td>0</td>\n",
              "      <td>0</td>\n",
              "      <td>1</td>\n",
              "      <td>0</td>\n",
              "      <td>0</td>\n",
              "      <td>0</td>\n",
              "      <td>1</td>\n",
              "      <td>0</td>\n",
              "      <td>1</td>\n",
              "      <td>0</td>\n",
              "      <td>0</td>\n",
              "      <td>0</td>\n",
              "      <td>1</td>\n",
              "      <td>0</td>\n",
              "      <td>0</td>\n",
              "      <td>1</td>\n",
              "      <td>0</td>\n",
              "      <td>0</td>\n",
              "      <td>1</td>\n",
              "      <td>0</td>\n",
              "    </tr>\n",
              "    <tr>\n",
              "      <th>3</th>\n",
              "      <td>1</td>\n",
              "      <td>1</td>\n",
              "      <td>0</td>\n",
              "      <td>0</td>\n",
              "      <td>1</td>\n",
              "      <td>0</td>\n",
              "      <td>1</td>\n",
              "      <td>39</td>\n",
              "      <td>39.65</td>\n",
              "      <td>1</td>\n",
              "      <td>0</td>\n",
              "      <td>1</td>\n",
              "      <td>0</td>\n",
              "      <td>1</td>\n",
              "      <td>0</td>\n",
              "      <td>0</td>\n",
              "      <td>1</td>\n",
              "      <td>0</td>\n",
              "      <td>0</td>\n",
              "      <td>1</td>\n",
              "      <td>0</td>\n",
              "      <td>0</td>\n",
              "      <td>0</td>\n",
              "      <td>0</td>\n",
              "      <td>1</td>\n",
              "      <td>1</td>\n",
              "      <td>0</td>\n",
              "      <td>0</td>\n",
              "      <td>1</td>\n",
              "      <td>0</td>\n",
              "      <td>0</td>\n",
              "      <td>0</td>\n",
              "      <td>0</td>\n",
              "      <td>1</td>\n",
              "      <td>1</td>\n",
              "      <td>0</td>\n",
              "      <td>0</td>\n",
              "      <td>0</td>\n",
              "      <td>0</td>\n",
              "      <td>1</td>\n",
              "      <td>0</td>\n",
              "      <td>0</td>\n",
              "      <td>1</td>\n",
              "      <td>0</td>\n",
              "      <td>0</td>\n",
              "      <td>1</td>\n",
              "      <td>0</td>\n",
              "      <td>0</td>\n",
              "      <td>1</td>\n",
              "      <td>0</td>\n",
              "    </tr>\n",
              "    <tr>\n",
              "      <th>4</th>\n",
              "      <td>1</td>\n",
              "      <td>0</td>\n",
              "      <td>1</td>\n",
              "      <td>0</td>\n",
              "      <td>12</td>\n",
              "      <td>1</td>\n",
              "      <td>0</td>\n",
              "      <td>19</td>\n",
              "      <td>202.25</td>\n",
              "      <td>0</td>\n",
              "      <td>1</td>\n",
              "      <td>0</td>\n",
              "      <td>0</td>\n",
              "      <td>0</td>\n",
              "      <td>0</td>\n",
              "      <td>1</td>\n",
              "      <td>0</td>\n",
              "      <td>1</td>\n",
              "      <td>0</td>\n",
              "      <td>0</td>\n",
              "      <td>1</td>\n",
              "      <td>0</td>\n",
              "      <td>0</td>\n",
              "      <td>1</td>\n",
              "      <td>0</td>\n",
              "      <td>0</td>\n",
              "      <td>1</td>\n",
              "      <td>0</td>\n",
              "      <td>0</td>\n",
              "      <td>1</td>\n",
              "      <td>0</td>\n",
              "      <td>0</td>\n",
              "      <td>1</td>\n",
              "      <td>0</td>\n",
              "      <td>0</td>\n",
              "      <td>1</td>\n",
              "      <td>0</td>\n",
              "      <td>1</td>\n",
              "      <td>0</td>\n",
              "      <td>0</td>\n",
              "      <td>0</td>\n",
              "      <td>0</td>\n",
              "      <td>1</td>\n",
              "      <td>0</td>\n",
              "      <td>0</td>\n",
              "      <td>1</td>\n",
              "      <td>0</td>\n",
              "      <td>0</td>\n",
              "      <td>1</td>\n",
              "      <td>0</td>\n",
              "    </tr>\n",
              "  </tbody>\n",
              "</table>\n",
              "</div>"
            ],
            "text/plain": [
              "   gender  SeniorCitizen  ...  totalcharges_cluster_low  totalcharges_cluster_medium\n",
              "0       0              0  ...                         1                            0\n",
              "1       0              0  ...                         1                            0\n",
              "2       1              0  ...                         1                            0\n",
              "3       1              1  ...                         1                            0\n",
              "4       1              0  ...                         1                            0\n",
              "\n",
              "[5 rows x 50 columns]"
            ]
          },
          "metadata": {
            "tags": []
          },
          "execution_count": 97
        }
      ]
    },
    {
      "cell_type": "code",
      "metadata": {
        "colab": {
          "base_uri": "https://localhost:8080/",
          "height": 657
        },
        "id": "mjsPqvv5LINO",
        "outputId": "b38131f5-067f-44b8-c0e4-53b3125579a6"
      },
      "source": [
        "plt.figure(figsize=(20, 7))\n",
        "df.corr()['Churn'].sort_values(ascending = False).plot(kind = 'bar', color = 'pink')\n",
        "plt.show()"
      ],
      "execution_count": null,
      "outputs": [
        {
          "output_type": "display_data",
          "data": {
            "image/png": "[encoded data removed]",
            "text/plain": [
              "<Figure size 1440x504 with 1 Axes>"
            ]
          },
          "metadata": {
            "tags": []
          }
        }
      ]
    },
    {
      "cell_type": "markdown",
      "metadata": {
        "id": "_3F9aaJSQVH0"
      },
      "source": [
        "**Observation**\n",
        "\n",
        "High churn in case of month-month contract, online security, tech-support, interet fiber optic, online backup\n",
        "\n",
        "Churn and Contract two year are highly negtively correlated, \n",
        "Churn and Contract online security, streaming movies, tech-support device protection with no internet service are highly negtively correlated, \n",
        "\n",
        "Muliple lines, gender and availability of phone service have no effect.\n"
      ]
    },
    {
      "cell_type": "code",
      "metadata": {
        "id": "8EvKuJcxMjvs"
      },
      "source": [
        "df.to_csv(\"/content/drive/MyDrive/project/Project_ChurnPrediction/Notebooks and Data/Data/clean_churn.csv\")"
      ],
      "execution_count": null,
      "outputs": []
    },
    {
      "cell_type": "code",
      "metadata": {
        "colab": {
          "base_uri": "https://localhost:8080/"
        },
        "id": "zDW20AgutHaB",
        "outputId": "9d1d6ac4-e939-4718-bed1-8cd2406bfc2b"
      },
      "source": [
        "df.shape"
      ],
      "execution_count": null,
      "outputs": [
        {
          "output_type": "execute_result",
          "data": {
            "text/plain": [
              "(7032, 50)"
            ]
          },
          "metadata": {
            "tags": []
          },
          "execution_count": 105
        }
      ]
    }
  ]
}